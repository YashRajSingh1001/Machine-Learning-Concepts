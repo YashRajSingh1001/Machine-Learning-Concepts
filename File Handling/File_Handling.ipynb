{
 "cells": [
  {
   "cell_type": "markdown",
   "metadata": {},
   "source": [
    "### Important Libraries"
   ]
  },
  {
   "cell_type": "code",
   "execution_count": 1,
   "metadata": {},
   "outputs": [
    {
     "name": "stdout",
     "output_type": "stream",
     "text": [
      "c:\\Disk E\\Machine Learning\\Supervised ML\\File Handling\n"
     ]
    }
   ],
   "source": [
    "import os\n",
    "print(os.getcwd())"
   ]
  },
  {
   "cell_type": "code",
   "execution_count": 2,
   "metadata": {},
   "outputs": [
    {
     "data": {
      "text/plain": [
       "'destination.txt'"
      ]
     },
     "execution_count": 2,
     "metadata": {},
     "output_type": "execute_result"
    }
   ],
   "source": [
    "#High level operations on files and collection of files\n",
    "import shutil\n",
    "shutil.copyfile(\"Source.txt\",\"destination.txt\")"
   ]
  },
  {
   "cell_type": "code",
   "execution_count": 6,
   "metadata": {},
   "outputs": [
    {
     "name": "stdout",
     "output_type": "stream",
     "text": [
      "{\"name\": \"Yash\", \"age\": 22}\n",
      "<class 'str'>\n",
      "{'name': 'Yash', 'age': 22}\n",
      "<class 'dict'>\n"
     ]
    }
   ],
   "source": [
    "#Data Serialization\n",
    "import json\n",
    "data = {\"name\":\"Yash\",\"age\":22}\n",
    "\n",
    "json_str = json.dumps(data)\n",
    "\n",
    "print(json_str)\n",
    "print(type(json_str))\n",
    "\n",
    "parsed_data = json.loads(json_str)\n",
    "print(parsed_data)\n",
    "print(type(parsed_data))\n"
   ]
  },
  {
   "cell_type": "code",
   "execution_count": 12,
   "metadata": {},
   "outputs": [
    {
     "name": "stdout",
     "output_type": "stream",
     "text": [
      "['Name', 'Age', 'Gender']\n",
      "['Yash', '22', 'Male']\n"
     ]
    }
   ],
   "source": [
    "#CSV\n",
    "import csv\n",
    "with open(\"example_csv\",mode=\"w\",newline='') as file:\n",
    "    writer = csv.writer(file)\n",
    "    writer.writerow([\"Name\",\"Age\",\"Gender\"])\n",
    "    writer.writerow([\"Yash\",22,\"Male\"])\n",
    "\n",
    "with open(\"example_csv\",mode=\"r\") as file:\n",
    "    reader = csv.reader(file)\n",
    "    for row in reader:\n",
    "        print(row)"
   ]
  },
  {
   "cell_type": "code",
   "execution_count": 20,
   "metadata": {},
   "outputs": [
    {
     "name": "stdout",
     "output_type": "stream",
     "text": [
      "2025-03-22 23:07:11.112619\n",
      "2025-03-21 23:07:11.112619\n"
     ]
    }
   ],
   "source": [
    "#datetime\n",
    "from datetime import datetime, timedelta\n",
    "\n",
    "current_time = datetime.now()\n",
    "print(current_time)\n",
    "\n",
    "yesterday = current_time - timedelta(days=1)\n",
    "print(yesterday)"
   ]
  },
  {
   "cell_type": "code",
   "execution_count": 21,
   "metadata": {},
   "outputs": [
    {
     "name": "stdout",
     "output_type": "stream",
     "text": [
      "1742665081.1764066\n",
      "1742665083.1779945\n"
     ]
    }
   ],
   "source": [
    "#time\n",
    "import time\n",
    "\n",
    "print(time.time())\n",
    "time.sleep(2)\n",
    "print(time.time())"
   ]
  },
  {
   "cell_type": "code",
   "execution_count": 22,
   "metadata": {},
   "outputs": [
    {
     "name": "stdout",
     "output_type": "stream",
     "text": [
      "120\n"
     ]
    }
   ],
   "source": [
    "#Regular Expression\n",
    "\n",
    "import  re\n",
    "pattern = r'\\d+'\n",
    "\n",
    "text = \"There are 120 boys in the class.\"\n",
    "match = re.search(pattern,text)\n",
    "print(match.group())"
   ]
  },
  {
   "cell_type": "markdown",
   "metadata": {},
   "source": [
    "## File Handling\n",
    "#### It is a crucial part of any programming language. Python provides built in functions and methods to read from and write to files, both text and binary."
   ]
  },
  {
   "cell_type": "code",
   "execution_count": 23,
   "metadata": {},
   "outputs": [
    {
     "name": "stdout",
     "output_type": "stream",
     "text": [
      "Name,Age,Gender\n",
      "Yash,22,Male\n",
      "\n"
     ]
    }
   ],
   "source": [
    "with open(\"example_csv\",\"r\") as file:\n",
    "    content = file.read()\n",
    "    print(content)"
   ]
  },
  {
   "cell_type": "code",
   "execution_count": null,
   "metadata": {},
   "outputs": [
    {
     "name": "stdout",
     "output_type": "stream",
     "text": [
      "Name,Age,Gender\n",
      "Yash,22,Male\n"
     ]
    }
   ],
   "source": [
    "#Reading line by line\n",
    "with open(\"example_csv\",\"r\") as file:\n",
    "    for content in file:\n",
    "        print(content.strip())  #strip() removes the new line character"
   ]
  },
  {
   "cell_type": "code",
   "execution_count": 25,
   "metadata": {},
   "outputs": [
    {
     "name": "stdout",
     "output_type": "stream",
     "text": [
      "Hello World!\n",
      "Let's go\n"
     ]
    }
   ],
   "source": [
    "#Overwrite\n",
    "with open(\"example_csv\",\"w\") as file:\n",
    "    file.write(\"Hello World!\\n\")\n",
    "    file.write(\"Let's go\")\n",
    "\n",
    "with open(\"example_csv\",\"r\") as file:\n",
    "    for content in file:\n",
    "        print(content.strip())  #strip() removes the new line character"
   ]
  },
  {
   "cell_type": "code",
   "execution_count": 26,
   "metadata": {},
   "outputs": [
    {
     "name": "stdout",
     "output_type": "stream",
     "text": [
      "Hello World!\n",
      "Let's go\n",
      "Hello World!\n",
      "Let's go\n"
     ]
    }
   ],
   "source": [
    "#Writing in a file without overwriting\n",
    "with open(\"example_csv\",\"a\") as file:\n",
    "    file.write(\"\\nHello World!\\n\")\n",
    "    file.write(\"Let's go\")\n",
    "\n",
    "\n",
    "with open(\"example_csv\",\"r\") as file:\n",
    "    for content in file:\n",
    "        print(content.strip())  #strip() removes the new line character"
   ]
  },
  {
   "cell_type": "code",
   "execution_count": 27,
   "metadata": {},
   "outputs": [],
   "source": [
    "##Binary Files\n",
    "data = b'\\x00\\x01\\x02\\x03\\x04'\n",
    "with open(\"example.bin\",\"wb\") as file:\n",
    "    file.write(data)"
   ]
  },
  {
   "cell_type": "code",
   "execution_count": 30,
   "metadata": {},
   "outputs": [
    {
     "name": "stdout",
     "output_type": "stream",
     "text": [
      "b'\\x00\\x01\\x02\\x03\\x04'\n"
     ]
    }
   ],
   "source": [
    "with open(\"example.bin\",\"rb\") as file:\n",
    "    content = file.read()\n",
    "    print(content)"
   ]
  },
  {
   "cell_type": "code",
   "execution_count": 31,
   "metadata": {},
   "outputs": [
    {
     "name": "stdout",
     "output_type": "stream",
     "text": [
      "Hey, what's up?\n",
      "All good!\n",
      "\n"
     ]
    }
   ],
   "source": [
    "#There is a w+ mode also which is used to open a file for both reading and writing. If the file doesn't exist, it will be created.\n",
    "#If the file exists, its content is truncated (ie, the file is overwritten)\n",
    "\n",
    "#Writing and then reading a file\n",
    "\n",
    "with open(\"example.txt\",\"w+\") as file:\n",
    "    file.write(\"Hey, what's up?\\n\")\n",
    "    file.write(\"All good!\\n\")\n",
    "\n",
    "    #Moving the cursor to the 0th index\n",
    "    file.seek(0)\n",
    "\n",
    "    #Reading the file now\n",
    "    content = file.read()\n",
    "    print(content)\n",
    "    "
   ]
  },
  {
   "cell_type": "code",
   "execution_count": 33,
   "metadata": {},
   "outputs": [
    {
     "name": "stdout",
     "output_type": "stream",
     "text": [
      "c:\\Disk E\\Machine Learning\\Supervised ML\\File Handling\n"
     ]
    }
   ],
   "source": [
    "print(os.getcwd())"
   ]
  },
  {
   "cell_type": "code",
   "execution_count": 36,
   "metadata": {},
   "outputs": [
    {
     "name": "stdout",
     "output_type": "stream",
     "text": [
      "Directory 'package' has been created.\n"
     ]
    }
   ],
   "source": [
    "#Making a new directory\n",
    "new_directory = \"package\"\n",
    "os.mkdir(new_directory)\n",
    "print(f\"Directory '{new_directory}' has been created.\")"
   ]
  },
  {
   "cell_type": "code",
   "execution_count": 37,
   "metadata": {},
   "outputs": [
    {
     "name": "stdout",
     "output_type": "stream",
     "text": [
      "['destination.txt', 'example.bin', 'example.txt', 'example_csv', 'File_Handling.ipynb', 'package', 'Source.txt']\n"
     ]
    }
   ],
   "source": [
    "print(os.listdir(\".\"))  #Dot represents the current location."
   ]
  },
  {
   "cell_type": "code",
   "execution_count": 38,
   "metadata": {},
   "outputs": [
    {
     "name": "stdout",
     "output_type": "stream",
     "text": [
      "It's a file.\n"
     ]
    }
   ],
   "source": [
    "#Checking if a path is a file or a directory\n",
    "import os\n",
    "\n",
    "path = \"example.txt\"\n",
    "if os.path.isfile(path):\n",
    "    print(\"It's a file.\")\n",
    "elif os.path.isdir(path):\n",
    "    print(\"It's a file.\")\n",
    "else:\n",
    "    print(\"Neither a file nor a directory\")"
   ]
  },
  {
   "cell_type": "code",
   "execution_count": null,
   "metadata": {},
   "outputs": [],
   "source": []
  }
 ],
 "metadata": {
  "kernelspec": {
   "display_name": "Python 3",
   "language": "python",
   "name": "python3"
  },
  "language_info": {
   "codemirror_mode": {
    "name": "ipython",
    "version": 3
   },
   "file_extension": ".py",
   "mimetype": "text/x-python",
   "name": "python",
   "nbconvert_exporter": "python",
   "pygments_lexer": "ipython3",
   "version": "3.12.6"
  }
 },
 "nbformat": 4,
 "nbformat_minor": 2
}
