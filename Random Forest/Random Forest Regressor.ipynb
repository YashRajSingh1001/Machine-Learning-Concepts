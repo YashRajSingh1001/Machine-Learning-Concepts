{
 "cells": [
  {
   "cell_type": "code",
   "execution_count": 1,
   "metadata": {},
   "outputs": [],
   "source": [
    "import pandas as pd\n",
    "import numpy as np\n",
    "import matplotlib.pyplot as plt\n",
    "import seaborn as sns\n",
    "\n",
    "%matplotlib inline"
   ]
  },
  {
   "cell_type": "code",
   "execution_count": 2,
   "metadata": {},
   "outputs": [
    {
     "data": {
      "text/html": [
       "<div>\n",
       "<style scoped>\n",
       "    .dataframe tbody tr th:only-of-type {\n",
       "        vertical-align: middle;\n",
       "    }\n",
       "\n",
       "    .dataframe tbody tr th {\n",
       "        vertical-align: top;\n",
       "    }\n",
       "\n",
       "    .dataframe thead th {\n",
       "        text-align: right;\n",
       "    }\n",
       "</style>\n",
       "<table border=\"1\" class=\"dataframe\">\n",
       "  <thead>\n",
       "    <tr style=\"text-align: right;\">\n",
       "      <th></th>\n",
       "      <th>car_name</th>\n",
       "      <th>brand</th>\n",
       "      <th>model</th>\n",
       "      <th>vehicle_age</th>\n",
       "      <th>km_driven</th>\n",
       "      <th>seller_type</th>\n",
       "      <th>fuel_type</th>\n",
       "      <th>transmission_type</th>\n",
       "      <th>mileage</th>\n",
       "      <th>engine</th>\n",
       "      <th>max_power</th>\n",
       "      <th>seats</th>\n",
       "      <th>selling_price</th>\n",
       "    </tr>\n",
       "  </thead>\n",
       "  <tbody>\n",
       "    <tr>\n",
       "      <th>0</th>\n",
       "      <td>Maruti Alto</td>\n",
       "      <td>Maruti</td>\n",
       "      <td>Alto</td>\n",
       "      <td>9</td>\n",
       "      <td>120000</td>\n",
       "      <td>Individual</td>\n",
       "      <td>Petrol</td>\n",
       "      <td>Manual</td>\n",
       "      <td>19.7</td>\n",
       "      <td>796</td>\n",
       "      <td>46.3</td>\n",
       "      <td>5</td>\n",
       "      <td>120000</td>\n",
       "    </tr>\n",
       "    <tr>\n",
       "      <th>1</th>\n",
       "      <td>Hyundai Grand</td>\n",
       "      <td>Hyundai</td>\n",
       "      <td>Grand</td>\n",
       "      <td>5</td>\n",
       "      <td>20000</td>\n",
       "      <td>Individual</td>\n",
       "      <td>Petrol</td>\n",
       "      <td>Manual</td>\n",
       "      <td>18.9</td>\n",
       "      <td>1197</td>\n",
       "      <td>82.0</td>\n",
       "      <td>5</td>\n",
       "      <td>550000</td>\n",
       "    </tr>\n",
       "  </tbody>\n",
       "</table>\n",
       "</div>"
      ],
      "text/plain": [
       "        car_name    brand  model  vehicle_age  km_driven seller_type  \\\n",
       "0    Maruti Alto   Maruti   Alto            9     120000  Individual   \n",
       "1  Hyundai Grand  Hyundai  Grand            5      20000  Individual   \n",
       "\n",
       "  fuel_type transmission_type  mileage  engine  max_power  seats  \\\n",
       "0    Petrol            Manual     19.7     796       46.3      5   \n",
       "1    Petrol            Manual     18.9    1197       82.0      5   \n",
       "\n",
       "   selling_price  \n",
       "0         120000  \n",
       "1         550000  "
      ]
     },
     "execution_count": 2,
     "metadata": {},
     "output_type": "execute_result"
    }
   ],
   "source": [
    "data = pd.read_csv(\"E:/Machine Learning/Random Forest/Cardekho_imputated_Regression.csv\", index_col=[0])\n",
    "data.head(2)"
   ]
  },
  {
   "cell_type": "code",
   "execution_count": 4,
   "metadata": {},
   "outputs": [
    {
     "data": {
      "text/plain": [
       "car_name             0\n",
       "brand                0\n",
       "model                0\n",
       "vehicle_age          0\n",
       "km_driven            0\n",
       "seller_type          0\n",
       "fuel_type            0\n",
       "transmission_type    0\n",
       "mileage              0\n",
       "engine               0\n",
       "max_power            0\n",
       "seats                0\n",
       "selling_price        0\n",
       "dtype: int64"
      ]
     },
     "execution_count": 4,
     "metadata": {},
     "output_type": "execute_result"
    }
   ],
   "source": [
    "data.isna().sum()"
   ]
  },
  {
   "cell_type": "code",
   "execution_count": 5,
   "metadata": {},
   "outputs": [],
   "source": [
    "data.drop(['car_name','brand'],axis=1,inplace=True)"
   ]
  },
  {
   "cell_type": "code",
   "execution_count": 6,
   "metadata": {},
   "outputs": [
    {
     "data": {
      "text/plain": [
       "array(['Alto', 'Grand', 'i20', 'Ecosport', 'Wagon R', 'i10', 'Venue',\n",
       "       'Swift', 'Verna', 'Duster', 'Cooper', 'Ciaz', 'C-Class', 'Innova',\n",
       "       'Baleno', 'Swift Dzire', 'Vento', 'Creta', 'City', 'Bolero',\n",
       "       'Fortuner', 'KWID', 'Amaze', 'Santro', 'XUV500', 'KUV100', 'Ignis',\n",
       "       'RediGO', 'Scorpio', 'Marazzo', 'Aspire', 'Figo', 'Vitara',\n",
       "       'Tiago', 'Polo', 'Seltos', 'Celerio', 'GO', '5', 'CR-V',\n",
       "       'Endeavour', 'KUV', 'Jazz', '3', 'A4', 'Tigor', 'Ertiga', 'Safari',\n",
       "       'Thar', 'Hexa', 'Rover', 'Eeco', 'A6', 'E-Class', 'Q7', 'Z4', '6',\n",
       "       'XF', 'X5', 'Hector', 'Civic', 'D-Max', 'Cayenne', 'X1', 'Rapid',\n",
       "       'Freestyle', 'Superb', 'Nexon', 'XUV300', 'Dzire VXI', 'S90',\n",
       "       'WR-V', 'XL6', 'Triber', 'ES', 'Wrangler', 'Camry', 'Elantra',\n",
       "       'Yaris', 'GL-Class', '7', 'S-Presso', 'Dzire LXI', 'Aura', 'XC',\n",
       "       'Ghibli', 'Continental', 'CR', 'Kicks', 'S-Class', 'Tucson',\n",
       "       'Harrier', 'X3', 'Octavia', 'Compass', 'CLS', 'redi-GO', 'Glanza',\n",
       "       'Macan', 'X4', 'Dzire ZXI', 'XC90', 'F-PACE', 'A8', 'MUX',\n",
       "       'GTC4Lusso', 'GLS', 'X-Trail', 'XE', 'XC60', 'Panamera', 'Alturas',\n",
       "       'Altroz', 'NX', 'Carnival', 'C', 'RX', 'Ghost', 'Quattroporte',\n",
       "       'Gurkha'], dtype=object)"
      ]
     },
     "execution_count": 6,
     "metadata": {},
     "output_type": "execute_result"
    }
   ],
   "source": [
    "data['model'].unique()"
   ]
  },
  {
   "cell_type": "code",
   "execution_count": 7,
   "metadata": {},
   "outputs": [
    {
     "name": "stdout",
     "output_type": "stream",
     "text": [
      "7\n",
      "4\n",
      "2\n",
      "5\n"
     ]
    }
   ],
   "source": [
    "num_features = [feature for feature in data.columns if data[feature].dtype != 'O']\n",
    "print(len(num_features))\n",
    "cat_features = [feature for feature in data.columns if data[feature].dtype == 'O']\n",
    "print(len(cat_features))\n",
    "discrete_features = [feature for feature in num_features if len(data[feature].unique()) <= 25]\n",
    "print(len(discrete_features))\n",
    "cont_features = [feature for feature in num_features if len(data[feature].unique()) > 25]\n",
    "print(len(cont_features))"
   ]
  },
  {
   "cell_type": "code",
   "execution_count": 8,
   "metadata": {},
   "outputs": [],
   "source": [
    "from sklearn.model_selection import train_test_split\n",
    "X= data.drop('selling_price',axis=1)\n",
    "Y = data['selling_price']"
   ]
  },
  {
   "cell_type": "code",
   "execution_count": 9,
   "metadata": {},
   "outputs": [],
   "source": [
    "from sklearn.preprocessing import LabelEncoder\n",
    "le= LabelEncoder()\n",
    "X['model'] = le.fit_transform(X['model'])"
   ]
  },
  {
   "cell_type": "code",
   "execution_count": 10,
   "metadata": {},
   "outputs": [],
   "source": [
    "num_features = X.select_dtypes(exclude='object').columns\n",
    "one_hot_columns = ['seller_type','fuel_type','transmission_type']\n",
    "\n",
    "from sklearn.preprocessing import OneHotEncoder, StandardScaler\n",
    "from sklearn.compose import ColumnTransformer\n",
    "\n",
    "\n",
    "numeric_transformer = StandardScaler()\n",
    "oh_transformer = OneHotEncoder(drop='first')\n",
    "\n",
    "\n",
    "preprocessor = ColumnTransformer([(\"OneHotEncoder\", oh_transformer, one_hot_columns),\n",
    "                                  (\"StandardScaler\", numeric_transformer, num_features) ], remainder='passthrough')\n",
    "\n",
    "\n",
    "X=preprocessor.fit_transform(X)\n"
   ]
  },
  {
   "cell_type": "code",
   "execution_count": 11,
   "metadata": {},
   "outputs": [
    {
     "data": {
      "text/plain": [
       "((3083, 14), (12328, 14))"
      ]
     },
     "execution_count": 11,
     "metadata": {},
     "output_type": "execute_result"
    }
   ],
   "source": [
    "X_train,X_test,Y_train,Y_test = train_test_split(X,Y,test_size=0.2, random_state=42)\n",
    "X_test.shape, X_train.shape"
   ]
  },
  {
   "cell_type": "code",
   "execution_count": 12,
   "metadata": {},
   "outputs": [],
   "source": [
    "#Random Forest Classifier\n",
    "from sklearn.ensemble import RandomForestRegressor, AdaBoostRegressor\n",
    "from sklearn.tree import DecisionTreeClassifier\n",
    "from sklearn.metrics import r2_score, mean_absolute_error, mean_squared_error"
   ]
  },
  {
   "cell_type": "code",
   "execution_count": 13,
   "metadata": {},
   "outputs": [
    {
     "name": "stdout",
     "output_type": "stream",
     "text": [
      "Adaboost\n",
      "Model Performance for Training Set\n",
      "- R2 Score: 0.7505\n",
      "- MAE: 340426.5782\n",
      "- MSE: 202331309180.2152\n",
      "--------------------\n",
      "Model Performance for Test Set\n",
      "- R2 Score: 0.6393\n",
      "- MAE: 359139.6355\n",
      "- MSE: 271523306519.6423\n"
     ]
    }
   ],
   "source": [
    "models = {\"Adaboost\": AdaBoostRegressor()}\n",
    "\n",
    "for i in range(len(list(models))):\n",
    "    model = list(models.values())[i]\n",
    "    model.fit(X_train, Y_train)\n",
    "\n",
    "    Y_train_Pred = model.predict(X_train)\n",
    "    Y_test_Pred = model.predict(X_test)\n",
    "\n",
    "    #Training Set\n",
    "    model_train_r2_score = r2_score(Y_train, Y_train_Pred)\n",
    "    model_train_mae = mean_absolute_error(Y_train, Y_train_Pred)\n",
    "    model_train_mse = mean_squared_error(Y_train, Y_train_Pred)\n",
    "    \n",
    "\n",
    "\n",
    "    #Test Set\n",
    "    model_test_r2_score = r2_score(Y_test, Y_test_Pred)\n",
    "    model_test_mae = mean_absolute_error(Y_test, Y_test_Pred)\n",
    "    model_test_mse = mean_squared_error(Y_test, Y_test_Pred)\n",
    "    \n",
    "    print(list(models.keys())[i])\n",
    "\n",
    "\n",
    "    print(\"Model Performance for Training Set\")\n",
    "    print(\"- R2 Score: {:.4f}\".format(model_train_r2_score))\n",
    "    print(\"- MAE: {:.4f}\".format(model_train_mae))\n",
    "    print(\"- MSE: {:.4f}\".format(model_train_mse))\n",
    "   \n",
    "\n",
    "\n",
    "\n",
    "    print(\"--------------------\")\n",
    "\n",
    "\n",
    "    print(\"Model Performance for Test Set\")\n",
    "    print(\"- R2 Score: {:.4f}\".format(model_test_r2_score))\n",
    "    print(\"- MAE: {:.4f}\".format(model_test_mae))\n",
    "    print(\"- MSE: {:.4f}\".format(model_test_mse))\n"
   ]
  },
  {
   "cell_type": "code",
   "execution_count": 16,
   "metadata": {},
   "outputs": [],
   "source": [
    "ada_params = {\"n_estimators\":[50,60,70,80],\n",
    "              \"loss\":[\"linear\",\"square\",\"exponential\"]}"
   ]
  },
  {
   "cell_type": "code",
   "execution_count": 17,
   "metadata": {},
   "outputs": [],
   "source": [
    "randomcvmodels = [('KNN',AdaBoostRegressor(),ada_params)]"
   ]
  },
  {
   "cell_type": "code",
   "execution_count": 19,
   "metadata": {},
   "outputs": [
    {
     "name": "stderr",
     "output_type": "stream",
     "text": [
      "c:\\Users\\IP FLEX5\\AppData\\Local\\Programs\\Python\\Python312\\Lib\\site-packages\\sklearn\\model_selection\\_search.py:320: UserWarning: The total space of parameters 12 is smaller than n_iter=100. Running 12 iterations. For exhaustive searches, use GridSearchCV.\n",
      "  warnings.warn(\n"
     ]
    },
    {
     "name": "stdout",
     "output_type": "stream",
     "text": [
      "Fitting 3 folds for each of 12 candidates, totalling 36 fits\n",
      "{'n_estimators': 50, 'loss': 'linear'}\n"
     ]
    }
   ],
   "source": [
    "from sklearn.model_selection import RandomizedSearchCV\n",
    "\n",
    "model_param = {}\n",
    "for name, model, params in randomcvmodels:\n",
    "    random = RandomizedSearchCV(estimator=model, param_distributions=params, n_iter=100, cv=3, verbose=2, n_jobs=-1)\n",
    "\n",
    "random.fit(X_train, Y_train)\n",
    "\n",
    "model_param['name'] = random.best_params_\n",
    "\n",
    "\n",
    "for model in model_param:\n",
    "    print(model_param[model])"
   ]
  },
  {
   "cell_type": "code",
   "execution_count": 20,
   "metadata": {},
   "outputs": [
    {
     "name": "stdout",
     "output_type": "stream",
     "text": [
      "Adaboost\n",
      "Model Performance for Training Set\n",
      "- R2 Score: 0.6890\n",
      "- MAE: 407294.1587\n",
      "- MSE: 252271729216.3291\n",
      "--------------------\n",
      "Model Performance for Test Set\n",
      "- R2 Score: 0.6196\n",
      "- MAE: 424569.2019\n",
      "- MSE: 286391111347.7377\n"
     ]
    }
   ],
   "source": [
    "models = {\"Adaboost\": AdaBoostRegressor(n_estimators=50,loss='linear')}\n",
    "\n",
    "for i in range(len(list(models))):\n",
    "    model = list(models.values())[i]\n",
    "    model.fit(X_train, Y_train)\n",
    "\n",
    "    Y_train_Pred = model.predict(X_train)\n",
    "    Y_test_Pred = model.predict(X_test)\n",
    "\n",
    "    #Training Set\n",
    "    model_train_r2_score = r2_score(Y_train, Y_train_Pred)\n",
    "    model_train_mae = mean_absolute_error(Y_train, Y_train_Pred)\n",
    "    model_train_mse = mean_squared_error(Y_train, Y_train_Pred)\n",
    "    \n",
    "\n",
    "\n",
    "    #Test Set\n",
    "    model_test_r2_score = r2_score(Y_test, Y_test_Pred)\n",
    "    model_test_mae = mean_absolute_error(Y_test, Y_test_Pred)\n",
    "    model_test_mse = mean_squared_error(Y_test, Y_test_Pred)\n",
    "    \n",
    "    print(list(models.keys())[i])\n",
    "\n",
    "\n",
    "    print(\"Model Performance for Training Set\")\n",
    "    print(\"- R2 Score: {:.4f}\".format(model_train_r2_score))\n",
    "    print(\"- MAE: {:.4f}\".format(model_train_mae))\n",
    "    print(\"- MSE: {:.4f}\".format(model_train_mse))\n",
    "   \n",
    "\n",
    "\n",
    "\n",
    "    print(\"--------------------\")\n",
    "\n",
    "\n",
    "    print(\"Model Performance for Test Set\")\n",
    "    print(\"- R2 Score: {:.4f}\".format(model_test_r2_score))\n",
    "    print(\"- MAE: {:.4f}\".format(model_test_mae))\n",
    "    print(\"- MSE: {:.4f}\".format(model_test_mse))\n"
   ]
  },
  {
   "cell_type": "code",
   "execution_count": null,
   "metadata": {},
   "outputs": [],
   "source": []
  }
 ],
 "metadata": {
  "kernelspec": {
   "display_name": "Python 3",
   "language": "python",
   "name": "python3"
  },
  "language_info": {
   "codemirror_mode": {
    "name": "ipython",
    "version": 3
   },
   "file_extension": ".py",
   "mimetype": "text/x-python",
   "name": "python",
   "nbconvert_exporter": "python",
   "pygments_lexer": "ipython3",
   "version": "3.12.6"
  }
 },
 "nbformat": 4,
 "nbformat_minor": 2
}
